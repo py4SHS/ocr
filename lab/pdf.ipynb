{
 "cells": [
  {
   "cell_type": "markdown",
   "id": "48e78c36",
   "metadata": {},
   "source": [
    "# PDF Reading\n",
    "\n",
    "## PyMDF\n",
    "\n",
    "Python Fitz, also known as PyMuPDF, is a powerful library for working with PDF documents in Python. It provides a wide range of features for tasks such as reading, writing, modifying, and extracting information from PDF files. Whether you need to extract text, images, metadata, or perform operations like page merging, splitting, or annotating, Fitz has got you covered.\n",
    "\n",
    "## Content\n",
    "\n",
    "In this workshop, you will learn how to:\n",
    "- Open and explore PDF documents\n",
    "- Extract text and metadata\n",
    "- Work with pages and images\n",
    "- Modify PDF content\n",
    "- Create new PDF documents"
   ]
  },
  {
   "cell_type": "code",
   "execution_count": null,
   "id": "32a47b11",
   "metadata": {},
   "outputs": [],
   "source": [
    "import fitz  # PyMuPDF\n",
    "from pathlib import Path\n",
    "from PIL import Image\n",
    "import io\n",
    "\n",
    "PDF_PATH = Path() / \"..\" / \"demo_data\" / \"mupdf_explored.pdf\"\n",
    "PDF_PATH.exists()"
   ]
  },
  {
   "cell_type": "markdown",
   "id": "49ec289d",
   "metadata": {},
   "source": [
    "# Start by looking at the file metadata"
   ]
  },
  {
   "cell_type": "markdown",
   "id": "00a4019d",
   "metadata": {},
   "source": [
    "## Open a PDF document"
   ]
  },
  {
   "cell_type": "code",
   "execution_count": null,
   "id": "73782da0",
   "metadata": {},
   "outputs": [],
   "source": [
    "def open_pdf_document(pdf_path):\n",
    "    \"\"\"\n",
    "    Open a PDF document and return basic information about it.\n",
    "    \"\"\"\n",
    "    # Open the PDF document\n",
    "    doc = fitz.open(pdf_path)\n",
    "    \n",
    "    # Display basic information\n",
    "    print(\"Document opened successfully!\")\n",
    "    print(f\"Number of pages: {len(doc)}\")\n",
    "    print(f\"Is PDF: {doc.is_pdf}\")\n",
    "    \n",
    "    return doc\n",
    "\n",
    "# Open your PDF document\n",
    "doc = open_pdf_document(PDF_PATH)"
   ]
  },
  {
   "cell_type": "markdown",
   "id": "f6dcad8f",
   "metadata": {},
   "source": [
    "## Explore document outline (bookmarks)"
   ]
  },
  {
   "cell_type": "code",
   "execution_count": null,
   "id": "450337c2",
   "metadata": {},
   "outputs": [],
   "source": [
    "def show_document_outline(doc):\n",
    "    \"\"\"Display the document's table of contents/outline.\"\"\"\n",
    "    toc = doc.get_toc()\n",
    "    if toc:\n",
    "        for level, title, page in toc:\n",
    "            indent = \"  \" * (level - 1)\n",
    "            print(f\"{indent}{title} (Page {page})\")\n",
    "    else:\n",
    "        print(\"\\nNo outline/bookmarks found in the document.\")\n",
    "\n",
    "show_document_outline(doc)"
   ]
  },
  {
   "cell_type": "markdown",
   "id": "9eabbffe",
   "metadata": {},
   "source": [
    "# Exploring the PDF content"
   ]
  },
  {
   "cell_type": "markdown",
   "id": "4a2dacea",
   "metadata": {},
   "source": [
    "## Access and explore pages"
   ]
  },
  {
   "cell_type": "code",
   "execution_count": null,
   "id": "f4ac76bb",
   "metadata": {},
   "outputs": [],
   "source": [
    "def explore_page_properties(doc, page_num=0):\n",
    "    \"\"\"\n",
    "    Explore properties of a specific page.\n",
    "    \"\"\"\n",
    "    page = doc[page_num]\n",
    "    \n",
    "    print(f\"\\nPage {page_num + 1} Properties:\")\n",
    "    print(\"-\" * 25)\n",
    "    print(f\"Page dimensions: {page.rect}\")\n",
    "    print(f\"Page rotation: {page.rotation} degrees\")\n",
    "    print(f\"Media box: {page.mediabox}\")\n",
    "    print(f\"Crop box: {page.cropbox}\")\n",
    "    \n",
    "    return page\n",
    "\n",
    "# Explore the first page\n",
    "first_page = explore_page_properties(doc, 0)"
   ]
  },
  {
   "cell_type": "markdown",
   "id": "c706f0ad",
   "metadata": {},
   "source": [
    "## Extract text from a page"
   ]
  },
  {
   "cell_type": "code",
   "execution_count": null,
   "id": "6ef2b643",
   "metadata": {},
   "outputs": [],
   "source": [
    "# Simple text extraction\n",
    "extracted_page = first_page.get_text()\n",
    "print(extracted_page[:200] + \"...\")"
   ]
  },
  {
   "cell_type": "markdown",
   "id": "e2b83b1a",
   "metadata": {},
   "source": [
    "## Search for text in a page"
   ]
  },
  {
   "cell_type": "code",
   "execution_count": null,
   "id": "6b90d0bc",
   "metadata": {},
   "outputs": [],
   "source": [
    "def search_text_in_page(page, search_term):\n",
    "    \"\"\"\n",
    "    Search for text in a page and return matching rectangles.\n",
    "    \"\"\"\n",
    "    try:\n",
    "        text_instances = page.search_for(search_term)\n",
    "        print(f\"\\nFound '{search_term}' {len(text_instances)} times on page\")\n",
    "        return text_instances\n",
    "    except Exception as e:\n",
    "        print(f\"Error searching for text: {e}\")\n",
    "        return []\n",
    "\n",
    "# Search for common words (you can modify these)\n",
    "search_results = search_text_in_page(first_page, \"September\")\n",
    "if search_results:\n",
    "    print(f\"First occurrence rectangle: {search_results[0]}\")"
   ]
  },
  {
   "cell_type": "markdown",
   "id": "89e3be13",
   "metadata": {},
   "source": [
    "## Exercice: Count the number of pages containing the word \"MuPdf\""
   ]
  },
  {
   "cell_type": "code",
   "execution_count": null,
   "id": "26d9640e",
   "metadata": {},
   "outputs": [],
   "source": [
    "..."
   ]
  },
  {
   "cell_type": "markdown",
   "id": "1fa5d7d7",
   "metadata": {},
   "source": [
    "## Render page as image"
   ]
  },
  {
   "cell_type": "code",
   "execution_count": null,
   "id": "e14cac5c",
   "metadata": {},
   "outputs": [],
   "source": [
    "def render_page_as_image(page, zoom=2.0):\n",
    "    \"\"\"\n",
    "    Render a page as an image.\n",
    "    \"\"\"\n",
    "    # Create transformation matrix for zoom\n",
    "    mat = fitz.Matrix(zoom, zoom)\n",
    "    \n",
    "    # Render page as pixmap\n",
    "    pix = page.get_pixmap(matrix=mat)\n",
    "    \n",
    "    # Convert to PIL Image\n",
    "    img_data = pix.tobytes(\"png\")\n",
    "    pil_img = Image.open(io.BytesIO(img_data))\n",
    "    \n",
    "    print(f\"Rendered page as {pil_img.size[0]}x{pil_img.size[1]} image\")\n",
    "    \n",
    "    pix = None  # Release memory\n",
    "    return pil_img\n",
    "\n",
    "# Render the first page as an image\n",
    "page_image = render_page_as_image(first_page, zoom=1.5)\n",
    "page_image"
   ]
  },
  {
   "cell_type": "markdown",
   "id": "3333b607",
   "metadata": {},
   "source": [
    "# MODIFYING PDF CONTENT"
   ]
  },
  {
   "cell_type": "markdown",
   "id": "88376e05",
   "metadata": {},
   "source": [
    "## Add annotations to a page"
   ]
  },
  {
   "cell_type": "code",
   "execution_count": null,
   "id": "3b499055",
   "metadata": {},
   "outputs": [],
   "source": [
    "def add_annotations(page):\n",
    "    \"\"\"\n",
    "    Add various types of annotations to a page.\n",
    "    \"\"\"\n",
    "    # Add a highlight annotation\n",
    "    # First, let's find some text to highlight\n",
    "    text_instances = page.search_for(\"the\")  # You can change this word\n",
    "    if text_instances:\n",
    "        highlight = page.add_highlight_annot(text_instances[0])\n",
    "        highlight.set_colors(stroke=[1, 1, 0])  # Yellow highlight\n",
    "        highlight.update()\n",
    "        print(\"Added highlight annotation\")\n",
    "    \n",
    "    # Add a text annotation (sticky note)\n",
    "    point = fitz.Point(50, 50)  # Top-left position\n",
    "    text_annot = page.add_text_annot(point, \"This is a text annotation!\")\n",
    "    text_annot.set_info(title=\"Tutorial\", content=\"Added by PyMuPDF tutorial\")\n",
    "    text_annot.update()\n",
    "    print(\"Added text annotation\")\n",
    "    \n",
    "    # Add a rectangle annotation\n",
    "    rect = fitz.Rect(100, 100, 200, 150)\n",
    "    rect_annot = page.add_rect_annot(rect)\n",
    "    rect_annot.set_colors(stroke=[1, 0, 0])  # Red border\n",
    "    rect_annot.set_border(width=2)\n",
    "    rect_annot.update()\n",
    "    print(\"Added rectangle annotation\")\n",
    "\n",
    "# Exercise 4.2: Insert text into a page\n",
    "def insert_text_into_page(page, text, position, fontsize=12):\n",
    "    \"\"\"\n",
    "    Insert text at a specific position on a page.\n",
    "    \"\"\"\n",
    "    if not page:\n",
    "        return\n",
    "    \n",
    "    point = fitz.Point(position[0], position[1])\n",
    "    \n",
    "    # Insert text\n",
    "    page.insert_text(\n",
    "        point, \n",
    "        text, \n",
    "        fontsize=fontsize,\n",
    "        color=(0, 0, 1)  # Blue color\n",
    "    )\n",
    "    print(f\"Inserted text at position {position}\")\n",
    "\n",
    "# Create a copy of the document for modifications\n",
    "def create_modified_document():\n",
    "    \"\"\"Create a modified copy of the original document.\"\"\"\n",
    "    if not doc:\n",
    "        print(\"No document loaded.\")\n",
    "        return None\n",
    "    \n",
    "    # Create a new document\n",
    "    new_doc = fitz.open()\n",
    "    \n",
    "    # Copy the first page\n",
    "    new_doc.insert_pdf(doc, from_page=0, to_page=0)\n",
    "    \n",
    "    # Get the first page of the new document\n",
    "    new_page = new_doc[0]\n",
    "    \n",
    "    # Add annotations\n",
    "    add_annotations(new_page)\n",
    "    \n",
    "    # Insert custom text\n",
    "    insert_text_into_page(new_page, \"Modified with PyMuPDF!\", (50, 200), fontsize=14)\n",
    "    \n",
    "    return new_doc\n",
    "\n",
    "# Create modified document\n",
    "modified_doc = create_modified_document()"
   ]
  },
  {
   "cell_type": "markdown",
   "id": "bbbe130c",
   "metadata": {},
   "source": [
    "# CREATING NEW PDF DOCUMENTS"
   ]
  },
  {
   "cell_type": "markdown",
   "id": "c42f6d6b",
   "metadata": {},
   "source": [
    "## Create a new PDF from scratch"
   ]
  },
  {
   "cell_type": "code",
   "execution_count": null,
   "id": "9afb8190",
   "metadata": {},
   "outputs": [],
   "source": [
    "def create_new_pdf():\n",
    "    \"\"\"Create a new PDF document with custom content.\"\"\"\n",
    "    # Create new document\n",
    "    new_doc = fitz.open()\n",
    "    \n",
    "    # Add a new page\n",
    "    page = new_doc.new_page(width=595, height=842)  # A4 size\n",
    "    \n",
    "    # Add title\n",
    "    title_text = \"PyMuPDF Tutorial - Generated PDF\"\n",
    "    title_rect = fitz.Rect(50, 50, 545, 100)\n",
    "    page.insert_textbox(\n",
    "        title_rect, \n",
    "        title_text, \n",
    "        fontsize=18, \n",
    "        color=(0, 0, 0),\n",
    "        align=1  # Center alignment\n",
    "    )\n",
    "    \n",
    "    # Add some content\n",
    "    content_text = \"\"\"\n",
    "    This PDF was created using PyMuPDF (fitz) library.\n",
    "    \n",
    "    Key features demonstrated:\n",
    "    • Opening and reading PDF documents\n",
    "    • Extracting text and images\n",
    "    • Adding annotations and modifications\n",
    "    • Creating new PDF documents\n",
    "    \n",
    "    PyMuPDF is a powerful library for PDF manipulation in Python!\n",
    "    \"\"\"\n",
    "    \n",
    "    content_rect = fitz.Rect(50, 120, 545, 400)\n",
    "    page.insert_textbox(\n",
    "        content_rect, \n",
    "        content_text, \n",
    "        fontsize=12, \n",
    "        color=(0, 0, 0)\n",
    "    )\n",
    "    \n",
    "    # Add a simple drawing\n",
    "    # Draw a rectangle\n",
    "    rect = fitz.Rect(50, 450, 250, 550)\n",
    "    page.draw_rect(rect, color=(0, 0, 1), width=2)\n",
    "    \n",
    "    # Draw a circle\n",
    "    center = fitz.Point(350, 500)\n",
    "    page.draw_circle(center, 50, color=(1, 0, 0), width=2)\n",
    "    \n",
    "    print(\"Created new PDF with custom content\")\n",
    "    return new_doc\n",
    "\n",
    "# Create a new PDF\n",
    "new_pdf = create_new_pdf()\n",
    "new_pdf.save(\"test.pdf\")"
   ]
  },
  {
   "cell_type": "markdown",
   "id": "3c2abc1e",
   "metadata": {},
   "source": [
    "## Exercice: Open the newly created pdf file and add a new page with a joke"
   ]
  },
  {
   "cell_type": "code",
   "execution_count": null,
   "id": "dd704d5d",
   "metadata": {},
   "outputs": [],
   "source": [
    "..."
   ]
  }
 ],
 "metadata": {
  "kernelspec": {
   "display_name": ".venv (3.12.9)",
   "language": "python",
   "name": "python3"
  },
  "language_info": {
   "codemirror_mode": {
    "name": "ipython",
    "version": 3
   },
   "file_extension": ".py",
   "mimetype": "text/x-python",
   "name": "python",
   "nbconvert_exporter": "python",
   "pygments_lexer": "ipython3",
   "version": "3.12.9"
  }
 },
 "nbformat": 4,
 "nbformat_minor": 5
}
