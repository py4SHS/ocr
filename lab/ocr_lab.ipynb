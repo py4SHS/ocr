{
 "cells": [
  {
   "cell_type": "markdown",
   "id": "b030e93f-1db5-45fa-91db-094bda1072ff",
   "metadata": {},
   "source": [
    "# OCR using Kraken"
   ]
  },
  {
   "cell_type": "code",
   "execution_count": null,
   "id": "fc95e865-f212-4f7e-9789-c82bca3d1f15",
   "metadata": {},
   "outputs": [],
   "source": [
    "from matplotlib import pyplot as plt\n",
    "from matplotlib import patches\n",
    "\n",
    "from PIL import Image\n",
    "from kraken.binarization import nlbin\n",
    "from kraken.kraken import "
   ]
  },
  {
   "cell_type": "code",
   "execution_count": null,
   "id": "ba4d4d64-6c34-47f3-b8f5-afadf52ee70f",
   "metadata": {},
   "outputs": [],
   "source": [
    "plt.rcParams[\"figure.figsize\"] = (20,15)"
   ]
  },
  {
   "cell_type": "markdown",
   "id": "313972c5-62fb-46ee-8142-d4d53e2571b1",
   "metadata": {},
   "source": [
    "### Open Image"
   ]
  },
  {
   "cell_type": "code",
   "execution_count": null,
   "id": "5afeb5cf-711b-4f78-9049-190334846820",
   "metadata": {},
   "outputs": [],
   "source": [
    "img = Image.open(\"../demo_data/demo_image.jpeg\")\n",
    "\n",
    "plt.imshow(img)"
   ]
  },
  {
   "cell_type": "markdown",
   "id": "36e60a96-950d-4ae2-8ee5-b92bf000591b",
   "metadata": {},
   "source": [
    "## OCR using CLI"
   ]
  },
  {
   "cell_type": "code",
   "execution_count": null,
   "id": "efae069f-0578-4f82-97e2-07389806bf3b",
   "metadata": {},
   "outputs": [],
   "source": [
    "# Get required model for the lab\n",
    "!kraken get 10.5281/zenodo.7631619 "
   ]
  },
  {
   "cell_type": "code",
   "execution_count": null,
   "id": "c06b38aa-91c9-4284-be7a-b07df2fd3228",
   "metadata": {},
   "outputs": [],
   "source": [
    "!kraken -i \"../demo_data/demo_image.jpeg\" output.txt segment -bl ocr -m cremma-generic-1.0.1.mlmodel"
   ]
  },
  {
   "cell_type": "markdown",
   "id": "295d6850-1e2f-452b-add3-52ee1342c476",
   "metadata": {},
   "source": [
    "## Compare to ground truth"
   ]
  },
  {
   "cell_type": "code",
   "execution_count": null,
   "id": "d0c4a81f-00bc-4c6d-8f07-1aec43a38ae3",
   "metadata": {},
   "outputs": [],
   "source": [
    "# Load ground truth\n",
    "with open(\"../demo_data/ground_truth.txt\", encoding=\"utf-8\") as f:\n",
    "    ground_truth = f.readlines()\n",
    "\n",
    "# Load kraken prediction\n",
    "with open(\"output.txt\", encoding=\"utf-8\") as f:\n",
    "    output = f.readlines()"
   ]
  },
  {
   "cell_type": "code",
   "execution_count": null,
   "id": "032bd57b-59f7-4eef-b4e8-d52a43dfb1e3",
   "metadata": {},
   "outputs": [],
   "source": [
    "ground_truth"
   ]
  },
  {
   "cell_type": "code",
   "execution_count": null,
   "id": "1bd327e1-3f1f-4b3f-84c7-26a61ee8d33e",
   "metadata": {
    "scrolled": true
   },
   "outputs": [],
   "source": [
    "output"
   ]
  },
  {
   "attachments": {},
   "cell_type": "markdown",
   "id": "e3573cae-f5a3-4272-ae2d-71f463be119d",
   "metadata": {},
   "source": [
    "**Exercice**: \n",
    "1. Print alternatively the ground truth and the output of Kraken and visually compare the results.\n",
    "2. Compute the ratio of succesfully recognized words divided by total number of words. A word is successfully predicted when all the letters are guessed and in the right order.\n",
    "3. What does this formula reminds you of ?"
   ]
  },
  {
   "cell_type": "markdown",
   "id": "1ffcb23e-7e1b-4555-bc8e-85e0f12e2de1",
   "metadata": {},
   "source": [
    "## Training our own model\n",
    "\n",
    "Basic syntax for training using ketos and specifying an architecture is:\n",
    "\n",
    "`ketos train -f alto -s '[1,0,0,3 Cr3,3,16 Mp3,3 Lfys64 Lbx128 Lbx256 Do]' ../training_data/*.xml`\n",
    "\n",
    "You can test the model using the `ketos test` command:\n",
    "\n",
    "`ketos test -m '/Users/mimsy/Library/Application Support/kraken/cremma-generic-1.0.1.mlmodel' -f alto ../demo_data/*.xml`.\n",
    "\n",
    "(where the model is located depends on your OS and the output of the function `get_app_dir` of click)."
   ]
  },
  {
   "cell_type": "markdown",
   "id": "cb24bb46-c866-4b18-849f-e6561adfd5e6",
   "metadata": {},
   "source": [
    "**Exercice**: \n",
    "1. Train the neural network using given architecture.\n",
    "2. Provide accuracy of the model.\n",
    "3. Evalute the performance of the model we used at the beginning of the session on the Alto XML example data located in `demo_data` and of the model you just trained."
   ]
  },
  {
   "cell_type": "code",
   "execution_count": null,
   "id": "38b1aa2b-a688-4ae1-a1e6-70239169d65e",
   "metadata": {},
   "outputs": [],
   "source": [
    "!ketos train -f alto -s '[1,0,0,3 Cr3,3,16 Lfys64 Do]' ../training_data/*.xml"
   ]
  },
  {
   "cell_type": "markdown",
   "id": "814ab82d-a20e-4dba-9a13-d440d27e6502",
   "metadata": {},
   "source": [
    "## Generating Alto XML format\n",
    "For large tasks, UI is easier to manipulate, but Kraken can be sufficient for small edits.\n",
    "\n",
    "You need to add the `-a` option at the beginning of the command. The output.txt will then be an ALTO XML file."
   ]
  },
  {
   "cell_type": "code",
   "execution_count": null,
   "id": "45f9d175-885e-41c7-b378-f6f718b9b571",
   "metadata": {},
   "outputs": [],
   "source": [
    "!kraken -a -i \"../demo_data/demo_image.jpeg\" output.txt segment -bl ocr -m cremma-generic-1.0.1.mlmodel "
   ]
  }
 ],
 "metadata": {
  "kernelspec": {
   "display_name": "Python 3 (ipykernel)",
   "language": "python",
   "name": "python3"
  },
  "language_info": {
   "codemirror_mode": {
    "name": "ipython",
    "version": 3
   },
   "file_extension": ".py",
   "mimetype": "text/x-python",
   "name": "python",
   "nbconvert_exporter": "python",
   "pygments_lexer": "ipython3",
   "version": "3.9.6"
  }
 },
 "nbformat": 4,
 "nbformat_minor": 5
}
